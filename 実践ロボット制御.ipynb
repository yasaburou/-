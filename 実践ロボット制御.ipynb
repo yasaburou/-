{
 "cells": [
  {
   "cell_type": "code",
   "execution_count": 3,
   "metadata": {
    "scrolled": true
   },
   "outputs": [
    {
     "name": "stdout",
     "output_type": "stream",
     "text": [
      "[[1.33226763e-15]\n",
      " [8.66025404e+00]]\n"
     ]
    }
   ],
   "source": [
    "#平面二自由度\n",
    "import numpy as np\n",
    "import math\n",
    "\n",
    "l1 = 5  # 第一関節の長さ\n",
    "l2 = 5  # 第二関節の長さ\n",
    "d1 = 60 # 第一関節の角度\n",
    "d2 = 60 # 第二関節の角度\n",
    "\n",
    "#順運動学\n",
    "p = np.matrix([[l1*math.cos(math.radians(d1)) + l2 *\n",
    "              (math.cos(math.radians(d1)) * math.cos(math.radians(d2)) - math.sin(math.radians(d1)) * math.sin(math.radians(d2)))],\n",
    "               [l1*math.sin(math.radians(d1)) + l2 *\n",
    "            (math.sin(math.radians(d1)) * math.cos(math.radians(d2)) + math.cos(math.radians(d1)) * math.sin(math.radians(d2)))]])\n",
    "\n",
    "\n",
    "print(p)\n",
    "\n",
    "#逆運動学\n",
    "px = 10 #手先座標\n",
    "py = 0  #手先座標\n",
    "l1 = 5  #第一関節の長さ\n",
    "l2 = 5  #第二関節の長さ\n",
    "\n",
    "#d2 = math.degrees(math.acos(px ** 2 + py ** 2 - l1 ** 2 -l2 ** 2 /(2 * l1 * l2)))\n",
    "\n",
    "#q = np.matrix([[l1 + l2 * math.cos(math.radians(d2)), l2 * math.sin(math.radians(d2))],\n",
    "#              [-l2 * math.sin(math.radians(d2)), l1+ l2 * math.cos(math.radians(d2))]])\n",
    "\n",
    "#p = np.matrix([[px], [py]])\n",
    "\n",
    "#r = np.dot(q, p)\n",
    "#c1 = r[0, 0] / (l1 ** 2 + l2 ** 2 + 2 * l1 * l2 * math.cos(math.radians(d2)))\n",
    "#s1 = r[0, 1] / (l1 ** 2 + l2 ** 2 + 2 * l1 * l2 * math.cos(math.radians(d2)))\n",
    "\n",
    "d1 = math.atan2(s1, c2)"
   ]
  },
  {
   "cell_type": "code",
   "execution_count": null,
   "metadata": {},
   "outputs": [],
   "source": []
  },
  {
   "cell_type": "code",
   "execution_count": null,
   "metadata": {},
   "outputs": [],
   "source": []
  }
 ],
 "metadata": {
  "kernelspec": {
   "display_name": "Python 3",
   "language": "python",
   "name": "python3"
  },
  "language_info": {
   "codemirror_mode": {
    "name": "ipython",
    "version": 3
   },
   "file_extension": ".py",
   "mimetype": "text/x-python",
   "name": "python",
   "nbconvert_exporter": "python",
   "pygments_lexer": "ipython3",
   "version": "3.7.3"
  }
 },
 "nbformat": 4,
 "nbformat_minor": 2
}
