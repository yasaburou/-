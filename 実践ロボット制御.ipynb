{
 "cells": [
  {
   "cell_type": "markdown",
   "metadata": {},
   "source": [
    "# 実践ロボット制御\n",
    "\n",
    "## 平面二自由度\n",
    "### 順運動学\n",
    "関節の変位から手先の位置を求める\n",
    "***\n",
    "$\n",
    "P(t)=\\begin{bmatrix}p_{x}(t) \\\\p_{y}(t) \\end{bmatrix}=\\begin{bmatrix}l_{1}C_{1}+l_{2}C_{12}\\\\l_{1}S_{1}+l_{2}S_{12} \\end{bmatrix}\n",
    "$\n",
    "***\n",
    "### 逆運動学\n",
    "手先の位置が与えられたときに、それを実現するための関節変位を求める\n",
    "***\n",
    "順運動学の式の一行目の式と二行目の式の二乗の和をとって\n",
    "\n",
    "$\n",
    "\\begin{eqnarray*}p_{x}(t)^2+p_{y}(t)^2&=&l_{1}^2+l_{2}^2+2l_{1}l_{2}(C_{1}C_{12}+S_{1}S_{12})\n",
    "\\\\\\\\\\mbox{加法定理を使って}\\\\&=&l_{1^2}+l_{2}^2+2l_{1}l_{2}C_{2}\n",
    "\\\\\\\\C_{2}&=&\\frac{p_{x}(t)^2+p_{y}(t)^2-l_{1}^2-l_{2}^2}{2l_{1}l_{2}}\\end{eqnarray*}\n",
    "$\n",
    "\n",
    "***"
   ]
  },
  {
   "cell_type": "code",
   "execution_count": 18,
   "metadata": {},
   "outputs": [
    {
     "name": "stdout",
     "output_type": "stream",
     "text": [
      "[[-7.5       ]\n",
      " [ 4.33012702]]\n",
      "-2.499999999999999 -7.499999999999999 4.330127018922194 4.330127018922195\n"
     ]
    },
    {
     "data": {
      "image/png": "[encoded data removed]",
      "text/plain": [
       "<Figure size 576x576 with 1 Axes>"
      ]
     },
     "metadata": {
      "needs_background": "light"
     },
     "output_type": "display_data"
    }
   ],
   "source": [
    "#平面二自由度\n",
    "import numpy as np\n",
    "import math\n",
    "import matplotlib.pyplot as plt\n",
    "\n",
    "l1 = 5   # 第一関節の長さ\n",
    "l2 = 5   # 第二関節の長さ\n",
    "d1 = 120 # 第一関節の角度\n",
    "d2 = 60  # 第二関節の角度\n",
    "\n",
    "#順運動学\n",
    "p = np.matrix([[l1*math.cos(math.radians(d1)) + l2 *\n",
    "              (math.cos(math.radians(d1)) * math.cos(math.radians(d2)) - math.sin(math.radians(d1)) * math.sin(math.radians(d2)))],\n",
    "               [l1*math.sin(math.radians(d1)) + l2 *\n",
    "            (math.sin(math.radians(d1)) * math.cos(math.radians(d2)) + math.cos(math.radians(d1)) * math.sin(math.radians(d2)))]])\n",
    "\n",
    "print(p)\n",
    "\n",
    "x1 = l1 * math.cos(math.radians(d1))\n",
    "y1 = l1 * math.sin(math.radians(d1))\n",
    "x2 = p[0, 0]\n",
    "y2 = p[1, 0]\n",
    "\n",
    "print(x1, x2, y1, y2)\n",
    "\n",
    "x = [0, x1, x2]\n",
    "y = [0, y1, y2]\n",
    "\n",
    "\n",
    "plt.figure(figsize=(8, 8))\n",
    "plt.plot(x, y, color=\"red\")\n",
    "plt.xlim(-10, 10)\n",
    "plt.ylim(-10, 10)\n",
    "plt.grid(which='major',color='black',linestyle=':')\n",
    "\n",
    "plt.show()\n",
    "\n",
    "\n",
    "#逆運動学\n",
    "px = 10 #手先座標\n",
    "py = 0  #手先座標\n",
    "l1 = 5  #第一関節の長さ\n",
    "l2 = 5  #第二関節の長さ\n",
    "\n",
    "#d2 = math.degrees(math.acos(px ** 2 + py ** 2 - l1 ** 2 -l2 ** 2 /(2 * l1 * l2)))\n",
    "\n",
    "#q = np.matrix([[l1 + l2 * math.cos(math.radians(d2)), l2 * math.sin(math.radians(d2))],\n",
    "#              [-l2 * math.sin(math.radians(d2)), l1+ l2 * math.cos(math.radians(d2))]])\n",
    "\n",
    "#p = np.matrix([[px], [py]])\n",
    "\n",
    "#r = np.dot(q, p)\n",
    "#c1 = r[0, 0] / (l1 ** 2 + l2 ** 2 + 2 * l1 * l2 * math.cos(math.radians(d2)))\n",
    "#s1 = r[0, 1] / (l1 ** 2 + l2 ** 2 + 2 * l1 * l2 * math.cos(math.radians(d2)))\n",
    "\n",
    "#d1 = math.atan2(s1, c2)"
   ]
  },
  {
   "cell_type": "code",
   "execution_count": null,
   "metadata": {},
   "outputs": [],
   "source": []
  }
 ],
 "metadata": {
  "kernelspec": {
   "display_name": "Python 3",
   "language": "python",
   "name": "python3"
  },
  "language_info": {
   "codemirror_mode": {
    "name": "ipython",
    "version": 3
   },
   "file_extension": ".py",
   "mimetype": "text/x-python",
   "name": "python",
   "nbconvert_exporter": "python",
   "pygments_lexer": "ipython3",
   "version": "3.7.3"
  }
 },
 "nbformat": 4,
 "nbformat_minor": 2
}
