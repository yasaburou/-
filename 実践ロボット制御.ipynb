{
 "cells": [
  {
   "cell_type": "code",
   "execution_count": null,
   "metadata": {},
   "outputs": [],
   "source": [
    "# 実践ロボット制御\n",
    " "
   ]
  },
  {
   "cell_type": "code",
   "execution_count": 5,
   "metadata": {
    "scrolled": true
   },
   "outputs": [
    {
     "name": "stdout",
     "output_type": "stream",
     "text": [
      "2.5000000000000004 3.368240888334653 1.7101007166283435 9.254165783983233\n",
      "[[3.36824089]\n",
      " [9.25416578]]\n"
     ]
    },
    {
     "data": {
      "image/png": "[encoded data removed]",
      "text/plain": [
       "<Figure size 432x288 with 1 Axes>"
      ]
     },
     "metadata": {
      "needs_background": "light"
     },
     "output_type": "display_data"
    }
   ],
   "source": [
    "#平面二自由度\n",
    "import numpy as np\n",
    "import math\n",
    "import matplotlib.pyplot as plt\n",
    "\n",
    "l1 = 5  # 第一関節の長さ\n",
    "l2 = 5  # 第二関節の長さ\n",
    "d1 = 60 # 第一関節の角度\n",
    "d2 = 20 # 第二関節の角度\n",
    "\n",
    "#順運動学\n",
    "p = np.matrix([[l1*math.cos(math.radians(d1)) + l2 *\n",
    "              (math.cos(math.radians(d1)) * math.cos(math.radians(d2)) - math.sin(math.radians(d1)) * math.sin(math.radians(d2)))],\n",
    "               [l1*math.sin(math.radians(d1)) + l2 *\n",
    "            (math.sin(math.radians(d1)) * math.cos(math.radians(d2)) + math.cos(math.radians(d1)) * math.sin(math.radians(d2)))]])\n",
    "\n",
    "x1 = l1 * math.cos(math.radians(d1))\n",
    "y1 = l1 * math.sin(math.radians(d2))\n",
    "x2 = p[0, 0]\n",
    "y2 = p[1, 0]\n",
    "\n",
    "print(x1, x2, y1, y2)\n",
    "\n",
    "x = [0, x1, x2]\n",
    "y = [0 ,y1, y2]\n",
    "\n",
    "plt.plot(x, y, color = \"red\")\n",
    "\n",
    "print(p)\n",
    "\n",
    "#逆運動学\n",
    "px = 10 #手先座標\n",
    "py = 0  #手先座標\n",
    "l1 = 5  #第一関節の長さ\n",
    "l2 = 5  #第二関節の長さ\n",
    "\n",
    "#d2 = math.degrees(math.acos(px ** 2 + py ** 2 - l1 ** 2 -l2 ** 2 /(2 * l1 * l2)))\n",
    "\n",
    "#q = np.matrix([[l1 + l2 * math.cos(math.radians(d2)), l2 * math.sin(math.radians(d2))],\n",
    "#              [-l2 * math.sin(math.radians(d2)), l1+ l2 * math.cos(math.radians(d2))]])\n",
    "\n",
    "#p = np.matrix([[px], [py]])\n",
    "\n",
    "#r = np.dot(q, p)\n",
    "#c1 = r[0, 0] / (l1 ** 2 + l2 ** 2 + 2 * l1 * l2 * math.cos(math.radians(d2)))\n",
    "#s1 = r[0, 1] / (l1 ** 2 + l2 ** 2 + 2 * l1 * l2 * math.cos(math.radians(d2)))\n",
    "\n",
    "#d1 = math.atan2(s1, c2)"
   ]
  },
  {
   "cell_type": "code",
   "execution_count": null,
   "metadata": {},
   "outputs": [],
   "source": []
  }
 ],
 "metadata": {
  "kernelspec": {
   "display_name": "Python 3",
   "language": "python",
   "name": "python3"
  }
 },
 "nbformat": 4,
 "nbformat_minor": 2
}
